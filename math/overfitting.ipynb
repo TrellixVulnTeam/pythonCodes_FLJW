{
 "cells": [
  {
   "cell_type": "code",
   "execution_count": 1,
   "metadata": {},
   "outputs": [],
   "source": [
    "import numpy as np\n",
    "from matplotlib import pyplot as plt\n",
    "import ipywidgets as widgets\n",
    "from ipywidgets import interact\n",
    "%matplotlib inline"
   ]
  },
  {
   "cell_type": "code",
   "execution_count": 2,
   "metadata": {},
   "outputs": [
    {
     "data": {
      "application/vnd.jupyter.widget-view+json": {
       "model_id": "325999512c3a4e369eb4f80f4973d049",
       "version_major": 2,
       "version_minor": 0
      },
      "text/html": [
       "<p>Failed to display Jupyter Widget of type <code>interactive</code>.</p>\n",
       "<p>\n",
       "  If you're reading this message in the Jupyter Notebook or JupyterLab Notebook, it may mean\n",
       "  that the widgets JavaScript is still loading. If this message persists, it\n",
       "  likely means that the widgets JavaScript library is either not installed or\n",
       "  not enabled. See the <a href=\"https://ipywidgets.readthedocs.io/en/stable/user_install.html\">Jupyter\n",
       "  Widgets Documentation</a> for setup instructions.\n",
       "</p>\n",
       "<p>\n",
       "  If you're reading this message in another frontend (for example, a static\n",
       "  rendering on GitHub or <a href=\"https://nbviewer.jupyter.org/\">NBViewer</a>),\n",
       "  it may mean that your frontend doesn't currently support widgets.\n",
       "</p>\n"
      ],
      "text/plain": [
       "interactive(children=(FloatSlider(value=0.65, description='a', max=3.0, min=-3.0, step=0.05), FloatSlider(value=0.65, description='b', max=3.0, min=-3.0, step=0.05), FloatSlider(value=0.65, description='c', max=3.0, min=-3.0, step=0.05), FloatSlider(value=0.65, description='d', max=3.0, min=-3.0, step=0.05), Output()), _dom_classes=('widget-interact',))"
      ]
     },
     "metadata": {},
     "output_type": "display_data"
    },
    {
     "data": {
      "text/plain": [
       "<function __main__.polynomial>"
      ]
     },
     "execution_count": 2,
     "metadata": {},
     "output_type": "execute_result"
    }
   ],
   "source": [
    "def polynomial(a,b,c,d):\n",
    "    x=np.arange(-np.pi,np.pi,0.01)\n",
    "    y= a*x**7+b*x**5+c*x**3+d*x\n",
    "    plt.ylim(-10,10)\n",
    "    plt.plot(x,y)\n",
    "    \n",
    "aslider= widgets.FloatSlider(min=-3, max=3, step=0.05,value=0.65)\n",
    "bslider= widgets.FloatSlider(min=-3, max=3, step=0.05,value=0.65)\n",
    "cslider= widgets.FloatSlider(min=-3, max=3, step=0.05,value=0.65)\n",
    "dslider= widgets.FloatSlider(min=-3, max=3, step=0.05,value=0.65)\n",
    "\n",
    "interact(polynomial,a=aslider,b=bslider,c=cslider,d=dslider)"
   ]
  },
  {
   "cell_type": "code",
   "execution_count": null,
   "metadata": {},
   "outputs": [],
   "source": []
  }
 ],
 "metadata": {
  "kernelspec": {
   "display_name": "Python 3",
   "language": "python",
   "name": "python3"
  },
  "language_info": {
   "codemirror_mode": {
    "name": "ipython",
    "version": 3
   },
   "file_extension": ".py",
   "mimetype": "text/x-python",
   "name": "python",
   "nbconvert_exporter": "python",
   "pygments_lexer": "ipython3",
   "version": "3.5.5"
  }
 },
 "nbformat": 4,
 "nbformat_minor": 2
}
