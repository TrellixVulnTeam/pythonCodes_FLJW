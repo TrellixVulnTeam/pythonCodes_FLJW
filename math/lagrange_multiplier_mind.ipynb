{
 "cells": [
  {
   "cell_type": "code",
   "execution_count": 1,
   "metadata": {},
   "outputs": [],
   "source": [
    "import math\n",
    "\n",
    "import numpy as np\n",
    "from matplotlib import pyplot as plt\n",
    "from ipywidgets import interact, FloatSlider\n",
    "import ipywidgets as widgets\n",
    "%matplotlib inline"
   ]
  },
  {
   "cell_type": "code",
   "execution_count": 2,
   "metadata": {},
   "outputs": [
    {
     "data": {
      "application/vnd.jupyter.widget-view+json": {
       "model_id": "3c0440a3f58743909cc7178ad02988f8",
       "version_major": 2,
       "version_minor": 0
      },
      "text/html": [
       "<p>Failed to display Jupyter Widget of type <code>interactive</code>.</p>\n",
       "<p>\n",
       "  If you're reading this message in the Jupyter Notebook or JupyterLab Notebook, it may mean\n",
       "  that the widgets JavaScript is still loading. If this message persists, it\n",
       "  likely means that the widgets JavaScript library is either not installed or\n",
       "  not enabled. See the <a href=\"https://ipywidgets.readthedocs.io/en/stable/user_install.html\">Jupyter\n",
       "  Widgets Documentation</a> for setup instructions.\n",
       "</p>\n",
       "<p>\n",
       "  If you're reading this message in another frontend (for example, a static\n",
       "  rendering on GitHub or <a href=\"https://nbviewer.jupyter.org/\">NBViewer</a>),\n",
       "  it may mean that your frontend doesn't currently support widgets.\n",
       "</p>\n"
      ],
      "text/plain": [
       "interactive(children=(FloatSlider(value=0.0, description='t', max=1.0, step=0.01), Output()), _dom_classes=('widget-interact',))"
      ]
     },
     "metadata": {},
     "output_type": "display_data"
    },
    {
     "data": {
      "text/plain": [
       "<function __main__.trace_circle>"
      ]
     },
     "execution_count": 2,
     "metadata": {},
     "output_type": "execute_result"
    }
   ],
   "source": [
    "def trace_circle(t):\n",
    "    fix, ax = plt.subplots(figsize=(5,5))\n",
    "    ax.set_aspect('equal')\n",
    "    x = np.arange(-2, 2, 0.01)\n",
    "    y = np.arange(-2, 2, 0.01)\n",
    "    X, Y = np.meshgrid(x, y)\n",
    "    # draw contour F(x,y) = x^2-y^2\n",
    "    F = X**2 - Y**2\n",
    "    cont = ax.contour(X, Y, F, levels=np.arange(-2, 2, 0.25), colors=['black'])\n",
    "    cont.clabel(fmt='%1.1f', fontsize=14)\n",
    "\n",
    "    # draw circle defined by G(x,y)=1 where G(x,y)=x^2+y^2\n",
    "    G = X**2 + Y**2\n",
    "    circle = np.zeros(G.shape)\n",
    "    circle[np.isclose(G, 1.0, atol=1e-2)] = 1.0\n",
    "    cont = ax.contour(X, Y, circle, colors=['red'])\n",
    "    # draw tangent line of curve defined by G(x,y)=1\n",
    "    x = math.cos(2*math.pi*t)\n",
    "    y = math.sin(2*math.pi*t)\n",
    "    vx = -y\n",
    "    vy = x\n",
    "    vx = vx/math.sqrt(vx**2+vy**2)\n",
    "    vy = vy/math.sqrt(vx**2+vy**2)\n",
    "    ax.quiver(x, y, vx, vy,\n",
    "              angles='xy', scale_units='xy', scale=1, color='red')\n",
    "    # draw gradient vector of F\n",
    "    vx = 2*x\n",
    "    vy = -2*y\n",
    "    vx = vx/math.sqrt(vx**2+vy**2)\n",
    "    vy = vy/math.sqrt(vx**2+vy**2)\n",
    "    ax.quiver(x, y, vx, vy,\n",
    "              angles='xy', scale_units='xy', scale=1, color='black')\n",
    "    ax.set_title(\"(x,y) = ({:.2f}, {:.2f}), $x^2-y^2$={:.2f}\".format(x,y,x**2-y**2))\n",
    "\n",
    "interact(trace_circle, t=FloatSlider(min=0, max=1, step=0.01))"
   ]
  },
  {
   "cell_type": "code",
   "execution_count": 3,
   "metadata": {},
   "outputs": [],
   "source": [
    "def plotPlayer(plot, start, end, interval=250, step=1):\n",
    "    \"\"\"\n",
    "    This technique is taken from \n",
    "    https://qiita.com/a-lilas/items/4b0664862cc13bd9a8b8\n",
    "    \"\"\"\n",
    "    ts = np.arange(start, end, step)\n",
    "    play = widgets.Play(min=ts[0],\n",
    "                        max=len(ts),\n",
    "                        step=1,\n",
    "                        interval=interval,\n",
    "                        description=\"Press play\",\n",
    "                        disabled=False\n",
    "                        )\n",
    "    slider = widgets.IntSlider(min=ts[0], max=len(ts)-1)\n",
    "    widgets.jslink((play, 'value'), (slider, 'value'))\n",
    "    controller = widgets.HBox([play])\n",
    "\n",
    "    def plot_wrapper(idx):\n",
    "        return plot(t=ts[idx])\n",
    "    output = widgets.interactive_output(plot_wrapper, {'idx': slider})\n",
    "    \n",
    "    return display(controller, output)"
   ]
  },
  {
   "cell_type": "code",
   "execution_count": 4,
   "metadata": {},
   "outputs": [
    {
     "data": {
      "application/vnd.jupyter.widget-view+json": {
       "model_id": "7d50075cef6d448fb07da732c9d8a363",
       "version_major": 2,
       "version_minor": 0
      },
      "text/html": [
       "<p>Failed to display Jupyter Widget of type <code>HBox</code>.</p>\n",
       "<p>\n",
       "  If you're reading this message in the Jupyter Notebook or JupyterLab Notebook, it may mean\n",
       "  that the widgets JavaScript is still loading. If this message persists, it\n",
       "  likely means that the widgets JavaScript library is either not installed or\n",
       "  not enabled. See the <a href=\"https://ipywidgets.readthedocs.io/en/stable/user_install.html\">Jupyter\n",
       "  Widgets Documentation</a> for setup instructions.\n",
       "</p>\n",
       "<p>\n",
       "  If you're reading this message in another frontend (for example, a static\n",
       "  rendering on GitHub or <a href=\"https://nbviewer.jupyter.org/\">NBViewer</a>),\n",
       "  it may mean that your frontend doesn't currently support widgets.\n",
       "</p>\n"
      ],
      "text/plain": [
       "HBox(children=(Play(value=0, description='Press play', interval=1500, max=40),))"
      ]
     },
     "metadata": {},
     "output_type": "display_data"
    },
    {
     "data": {
      "application/vnd.jupyter.widget-view+json": {
       "model_id": "a2ba899e99474bca82a3f15c861c4798",
       "version_major": 2,
       "version_minor": 0
      },
      "text/html": [
       "<p>Failed to display Jupyter Widget of type <code>Output</code>.</p>\n",
       "<p>\n",
       "  If you're reading this message in the Jupyter Notebook or JupyterLab Notebook, it may mean\n",
       "  that the widgets JavaScript is still loading. If this message persists, it\n",
       "  likely means that the widgets JavaScript library is either not installed or\n",
       "  not enabled. See the <a href=\"https://ipywidgets.readthedocs.io/en/stable/user_install.html\">Jupyter\n",
       "  Widgets Documentation</a> for setup instructions.\n",
       "</p>\n",
       "<p>\n",
       "  If you're reading this message in another frontend (for example, a static\n",
       "  rendering on GitHub or <a href=\"https://nbviewer.jupyter.org/\">NBViewer</a>),\n",
       "  it may mean that your frontend doesn't currently support widgets.\n",
       "</p>\n"
      ],
      "text/plain": [
       "Output()"
      ]
     },
     "metadata": {},
     "output_type": "display_data"
    }
   ],
   "source": [
    "plotPlayer(trace_circle, 0, 1., step=0.025,interval=1500)"
   ]
  },
  {
   "cell_type": "code",
   "execution_count": null,
   "metadata": {},
   "outputs": [],
   "source": []
  },
  {
   "cell_type": "code",
   "execution_count": null,
   "metadata": {},
   "outputs": [],
   "source": []
  },
  {
   "cell_type": "code",
   "execution_count": null,
   "metadata": {},
   "outputs": [],
   "source": []
  }
 ],
 "metadata": {
  "kernelspec": {
   "display_name": "Python 3",
   "language": "python",
   "name": "python3"
  },
  "language_info": {
   "codemirror_mode": {
    "name": "ipython",
    "version": 3
   },
   "file_extension": ".py",
   "mimetype": "text/x-python",
   "name": "python",
   "nbconvert_exporter": "python",
   "pygments_lexer": "ipython3",
   "version": "3.5.5"
  }
 },
 "nbformat": 4,
 "nbformat_minor": 2
}
