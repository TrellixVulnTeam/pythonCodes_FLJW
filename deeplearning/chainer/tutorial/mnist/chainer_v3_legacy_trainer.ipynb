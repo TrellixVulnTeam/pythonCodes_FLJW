{
 "cells": [
  {
   "cell_type": "markdown",
   "metadata": {},
   "source": [
    "# Chainer v3 tutorial \n",
    "- https://qiita.com/mitmul/items/1e35fba085eb07a92560"
   ]
  },
  {
   "cell_type": "code",
   "execution_count": null,
   "metadata": {},
   "outputs": [],
   "source": [
    "from chainer.datasets import mnist \n",
    "train, test = mnist.get_mnist(withlabel=True, ndim=1)"
   ]
  },
  {
   "cell_type": "code",
   "execution_count": null,
   "metadata": {},
   "outputs": [],
   "source": [
    "%matplotlib inline \n",
    "from matplotlib import pyplot as plt \n",
    "\n",
    "x, t = train[0]\n",
    "plt.imshow(x.reshape(28,28), cmap='gray')\n",
    "plt.title('label: {}'.format(t))\n",
    "plt.axis('off')\n",
    "plt.show()"
   ]
  },
  {
   "cell_type": "code",
   "execution_count": null,
   "metadata": {},
   "outputs": [],
   "source": [
    "batchsize = 128\n",
    "from chainer import iterators\n",
    "\n",
    "train_iter = iterators.SerialIterator(train, batchsize)\n",
    "test_iter = iterators.SerialIterator(test, batchsize, repeat = False, shuffle = False)"
   ]
  },
  {
   "cell_type": "code",
   "execution_count": null,
   "metadata": {},
   "outputs": [],
   "source": [
    "import chainer.links as L \n",
    "import chainer.functions as F "
   ]
  },
  {
   "cell_type": "code",
   "execution_count": null,
   "metadata": {},
   "outputs": [],
   "source": [
    "import random \n",
    "import numpy as np \n",
    "random.seed(0)\n",
    "np.random.seed(0)\n",
    "import chainer \n",
    "if chainer.cuda.available:\n",
    "    chainer.cuda.cupy.random.seed(0)"
   ]
  },
  {
   "cell_type": "code",
   "execution_count": null,
   "metadata": {},
   "outputs": [],
   "source": [
    "class MLP(chainer.Chain):\n",
    "    def __init__(self, n_mid_units=100, n_out=10):\n",
    "        super(MLP, self).__init__()\n",
    "        with self.init_scope():\n",
    "            self.l1=L.Linear(None, n_mid_units)\n",
    "            self.l2=L.Linear(n_mid_units,n_mid_units)\n",
    "            self.l3=L.Linear(n_mid_units,n_out)\n",
    "    \n",
    "    def __call__(self, x):\n",
    "        h1 = F.relu(self.l1(x))\n",
    "        h2 = F.relu(self.l2(h1))\n",
    "        return self.l3(h2)"
   ]
  },
  {
   "cell_type": "code",
   "execution_count": null,
   "metadata": {},
   "outputs": [],
   "source": [
    "device = 0 if chainer.cuda.available else -1\n",
    "net = MLP()\n",
    "if device >= 0:\n",
    "    net.to_gpu(device)"
   ]
  },
  {
   "cell_type": "code",
   "execution_count": null,
   "metadata": {},
   "outputs": [],
   "source": [
    "from chainer import optimizers\n",
    "optimizer = optimizers.SGD(lr=0.01)\n",
    "optimizer.setup(net)"
   ]
  },
  {
   "cell_type": "code",
   "execution_count": null,
   "metadata": {},
   "outputs": [],
   "source": [
    "import numpy as np \n",
    "from chainer.dataset import concat_examples \n",
    "from chainer.cuda import to_cpu\n",
    "max_epoch = 10 \n",
    "while train_iter.epoch < max_epoch:\n",
    "    train_batch = train_iter.next()\n",
    "    x, t = concat_examples(train_batch, device)\n",
    "    \n",
    "    y = net(x)\n",
    "    \n",
    "    loss=F.softmax_cross_entropy(y, t)\n",
    "    net.cleargrads()\n",
    "    loss.backward()\n",
    "    optimizer.update()\n",
    "    if train_iter.is_new_epoch:\n",
    "        print('epoch:{:02d} train_loss:{:.04f} '.format(\n",
    "            train_iter.epoch, float(to_cpu(loss.data))), end='')\n",
    "        \n",
    "        test_losses = []\n",
    "        test_accuracies = []\n",
    "        while True:\n",
    "            test_batch = test_iter.next()\n",
    "            x_test, t_test = concat_examples(test_batch, device)\n",
    "            y_test = net(x_test)\n",
    "            loss_test = F.softmax_cross_entropy(y_test, t_test)\n",
    "            test_losses.append(to_cpu(loss_test.data))\n",
    "            accuracy = F.accuracy(y_test, t_test)\n",
    "            accuracy.to_cpu()\n",
    "            test_accuracies.append(accuracy.data)\n",
    "            \n",
    "            if test_iter.is_new_epoch:\n",
    "                test_iter.epoch = 0 \n",
    "                test_iter.current_position=0\n",
    "                test_iter.is_new_epoch = False \n",
    "                test_iter._pushed_position=None\n",
    "                break \n",
    "        print('val_loss:{:.04f} val_accuracy:{:.04f}'.format(\n",
    "            np.mean(test_losses), np.mean(test_accuracies)))"
   ]
  },
  {
   "cell_type": "code",
   "execution_count": null,
   "metadata": {},
   "outputs": [],
   "source": [
    "x, t = test[0] \n",
    "plt.imshow(x.reshape(28,28), cmap='gray')\n",
    "print('元の形：', x.shape, end=' -> ')\n",
    "x=x[None, ...]\n",
    "print('ミニバッチの形にしたあと：', x.shape)\n",
    "x = net.xp.asarray(x)\n",
    "y = net(x)\n",
    "y = to_cpu(y.data)\n",
    "print('ネットワークの予測:', y.argmax(axis=1)[0])"
   ]
  }
 ],
 "metadata": {
  "kernelspec": {
   "display_name": "Python 3",
   "language": "python",
   "name": "python3"
  },
  "language_info": {
   "codemirror_mode": {
    "name": "ipython",
    "version": 3
   },
   "file_extension": ".py",
   "mimetype": "text/x-python",
   "name": "python",
   "nbconvert_exporter": "python",
   "pygments_lexer": "ipython3",
   "version": "3.5.4"
  }
 },
 "nbformat": 4,
 "nbformat_minor": 2
}
