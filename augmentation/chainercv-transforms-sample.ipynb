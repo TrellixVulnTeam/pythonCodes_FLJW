{
 "cells": [
  {
   "cell_type": "markdown",
   "metadata": {},
   "source": [
    "# 触ってみよう♪ ChainerCV "
   ]
  },
  {
   "cell_type": "markdown",
   "metadata": {},
   "source": [
    "# chainercv.transforms"
   ]
  },
  {
   "cell_type": "markdown",
   "metadata": {},
   "source": [
    "# import modules"
   ]
  },
  {
   "cell_type": "code",
   "execution_count": null,
   "metadata": {},
   "outputs": [],
   "source": [
    "from collections import OrderedDict\n",
    "import itertools\n",
    "\n",
    "import numpy as np\n",
    "from matplotlib import pyplot as plt\n",
    "%matplotlib inline\n",
    "\n",
    "import chainer\n",
    "import chainercv\n",
    "from chainercv.visualizations import vis_image, vis_point\n",
    "\n",
    "import PIL"
   ]
  },
  {
   "cell_type": "markdown",
   "metadata": {},
   "source": [
    "# confirm chainer version"
   ]
  },
  {
   "cell_type": "markdown",
   "metadata": {},
   "source": [
    "## chainer"
   ]
  },
  {
   "cell_type": "code",
   "execution_count": null,
   "metadata": {},
   "outputs": [],
   "source": [
    "chainer.__version__"
   ]
  },
  {
   "cell_type": "markdown",
   "metadata": {},
   "source": [
    "## chainercv"
   ]
  },
  {
   "cell_type": "code",
   "execution_count": null,
   "metadata": {},
   "outputs": [],
   "source": [
    "chainercv.__version__"
   ]
  },
  {
   "cell_type": "code",
   "execution_count": null,
   "metadata": {},
   "outputs": [],
   "source": [
    "imgfile='lena.jpeg'"
   ]
  },
  {
   "cell_type": "markdown",
   "metadata": {},
   "source": [
    "# read image"
   ]
  },
  {
   "cell_type": "code",
   "execution_count": null,
   "metadata": {},
   "outputs": [],
   "source": [
    "img = chainercv.utils.read_image(imgfile)\n",
    "img.shape  # should be C, H, W"
   ]
  },
  {
   "cell_type": "markdown",
   "metadata": {},
   "source": [
    "# visualize what you read"
   ]
  },
  {
   "cell_type": "code",
   "execution_count": null,
   "metadata": {},
   "outputs": [],
   "source": [
    "chainercv.visualizations.vis_image(img)"
   ]
  },
  {
   "cell_type": "code",
   "execution_count": null,
   "metadata": {},
   "outputs": [],
   "source": [
    "# https: // github.com/matplotlib/matplotlib/issues/7221/\n",
    "from mpl_toolkits.axes_grid1 import make_axes_locatable"
   ]
  },
  {
   "cell_type": "markdown",
   "metadata": {},
   "source": [
    "## visualize image on figure which user defined"
   ]
  },
  {
   "cell_type": "code",
   "execution_count": null,
   "metadata": {},
   "outputs": [],
   "source": [
    "img = chainercv.utils.read_image(imgfile)\n",
    "fig = plt.figure(figsize=(10, 5))\n",
    "ax1 = fig.add_subplot(121)\n",
    "ax2 = fig.add_subplot(122)\n",
    "ax2.hist([img[i].flatten() for i in range(3)],\n",
    "         bins=range(0, 256+1, 8), color=['r', 'g', 'b'])\n",
    "ax1.set_title('chainercv.vis_image')\n",
    "ax2.set_title('color histgram')\n",
    "vis_image(img, ax=ax1)"
   ]
  },
  {
   "cell_type": "code",
   "execution_count": null,
   "metadata": {},
   "outputs": [],
   "source": [
    "from chainercv.visualizations import vis_image\n",
    "import chainercv.transforms as transforms"
   ]
  },
  {
   "cell_type": "markdown",
   "metadata": {},
   "source": [
    "# `chainer.transforms` exercise"
   ]
  },
  {
   "cell_type": "markdown",
   "metadata": {},
   "source": [
    "## center_crop \n",
    " - `chainercv.transforms.center_crop(img, size, return_param=False, copy=False)`"
   ]
  },
  {
   "cell_type": "code",
   "execution_count": null,
   "metadata": {},
   "outputs": [],
   "source": [
    "h = 150\n",
    "w = 120\n",
    "size = (h, w)\n",
    "vis_image(transforms.center_crop(img, size))"
   ]
  },
  {
   "cell_type": "markdown",
   "metadata": {},
   "source": [
    "### return_param=True (default False)"
   ]
  },
  {
   "cell_type": "code",
   "execution_count": null,
   "metadata": {},
   "outputs": [],
   "source": [
    "cropped, param = transforms.center_crop(img, size, return_param=True)\n",
    "param"
   ]
  },
  {
   "cell_type": "markdown",
   "metadata": {},
   "source": [
    "### difference between copy=False and copy=True (default False)\n",
    "\n",
    "- what happens if we modify data of  `cropped=transforms.center_crop(img,size,copy=False)` ?"
   ]
  },
  {
   "cell_type": "code",
   "execution_count": null,
   "metadata": {},
   "outputs": [],
   "source": [
    "f, (ax1, ax2, ax3) = plt.subplots(nrows=1, ncols=3, figsize=(10, 5))\n",
    "img = chainercv.utils.read_image(imgfile)\n",
    "cropped = transforms.center_crop(img, size, copy=False)\n",
    "# modify data of original image\n",
    "img[:, param['y_slice'], param['x_slice']] = 0  # fill with black\n",
    "vis_image(cropped, ax=ax1)\n",
    "# modify data of cropped image\n",
    "cropped[:, :, :] = 128  # fill with gray\n",
    "vis_image(img, ax=ax2)\n",
    "vis_image(cropped, ax=ax3)"
   ]
  },
  {
   "cell_type": "markdown",
   "metadata": {},
   "source": [
    "# check id of view"
   ]
  },
  {
   "cell_type": "code",
   "execution_count": null,
   "metadata": {},
   "outputs": [],
   "source": [
    "print('object id', id(img), id(cropped), id(img) == id(cropped))\n",
    "print('view id', id(img.view) == id(cropped.view)) # should be `True`"
   ]
  },
  {
   "cell_type": "markdown",
   "metadata": {},
   "source": [
    "### avoid side effect\n",
    "\n",
    "- we can avoid such a side effect by setting optional argument `copy=True`"
   ]
  },
  {
   "cell_type": "code",
   "execution_count": null,
   "metadata": {},
   "outputs": [],
   "source": [
    "f, (ax1, ax2, ax3) = plt.subplots(nrows=1, ncols=3, figsize=(10, 5))\n",
    "img = chainercv.utils.read_image(imgfile)\n",
    "cropped = transforms.center_crop(img, size, copy=True)\n",
    "# modify data of original image\n",
    "img[:, param['y_slice'], param['x_slice']] = 0  # fill with black\n",
    "vis_image(cropped, ax=ax1)\n",
    "# modify data of cropped image\n",
    "cropped[:, :, :] = 128  # fill with gray\n",
    "vis_image(img, ax=ax2)\n",
    "vis_image(cropped, ax=ax3)"
   ]
  },
  {
   "cell_type": "markdown",
   "metadata": {},
   "source": [
    "## flip \n",
    " - `chainercv.transforms.flip(img, y_flip=False, x_flip=False, copy=False)`"
   ]
  },
  {
   "cell_type": "code",
   "execution_count": null,
   "metadata": {},
   "outputs": [],
   "source": [
    "img = chainercv.utils.read_image(imgfile)\n",
    "f, (ax1, ax2, ax3, ax4) = plt.subplots(nrows=1, ncols=4, figsize=(13, 5))\n",
    "img_y_flip = transforms.flip(img, y_flip=True, x_flip=False)\n",
    "ax2.set_title('y_flip=True')\n",
    "vis_image(img_y_flip, ax=ax2)\n",
    "img_x_flip = transforms.flip(img, y_flip=False, x_flip=True)\n",
    "ax3.set_title('x_flip=True')\n",
    "vis_image(img_x_flip, ax=ax3)\n",
    "img_xy_flip = transforms.flip(img, y_flip=True, x_flip=True)\n",
    "ax4.set_title('x_flip=True, y_flip=True')\n",
    "vis_image(img_xy_flip, ax=ax4)\n",
    "# do nothing\n",
    "default = transforms.flip(img, y_flip=False, x_flip=False)\n",
    "ax1.set_title('default')\n",
    "vis_image(default, ax=ax1)"
   ]
  },
  {
   "cell_type": "markdown",
   "metadata": {},
   "source": [
    "### check side effect (copy = False)"
   ]
  },
  {
   "cell_type": "code",
   "execution_count": null,
   "metadata": {},
   "outputs": [],
   "source": [
    "img = chainercv.utils.read_image(imgfile)\n",
    "f, (ax1, ax2, ax3, ax4) = plt.subplots(nrows=1, ncols=4, figsize=(13, 5))\n",
    "img_y_flip = transforms.flip(img, y_flip=True, copy=False)\n",
    "img_xy_flip = transforms.flip(img_y_flip, x_flip=True, copy=False)\n",
    "ax1.set_title('original')\n",
    "vis_image(img, ax=ax1)\n",
    "ax2.set_title('xy_flip')\n",
    "vis_image(img_xy_flip, ax=ax2)\n",
    "img[:, 30:50, 20:50] = 128\n",
    "img[:, 150:180, 100:200] = 0\n",
    "ax3.set_title(\"modified\")\n",
    "vis_image(img, ax=ax3)\n",
    "ax4.set_title(\"modified xy_flip\")\n",
    "vis_image(img_xy_flip, ax=ax4)"
   ]
  },
  {
   "cell_type": "markdown",
   "metadata": {},
   "source": [
    "## pca_lighting\n",
    "\n",
    "- `chainercv.transforms.pca_lighting(img, sigma, eigen_value=None, eigen_vector=None)`"
   ]
  },
  {
   "cell_type": "code",
   "execution_count": null,
   "metadata": {},
   "outputs": [],
   "source": [
    "img = chainercv.utils.read_image(imgfile)\n",
    "fig, (ax1, ax2) = plt.subplots(nrows=1, ncols=2, figsize=(10, 5))\n",
    "vis_image(img, ax=ax1)\n",
    "vis_image(transforms.pca_lighting(img, sigma=25.5), ax=ax2)"
   ]
  },
  {
   "cell_type": "markdown",
   "metadata": {},
   "source": [
    "## try pca_lighting several times"
   ]
  },
  {
   "cell_type": "code",
   "execution_count": null,
   "metadata": {},
   "outputs": [],
   "source": [
    "for _ in range(5):\n",
    "    vis_image(transforms.pca_lighting(img, sigma=25.5))"
   ]
  },
  {
   "cell_type": "markdown",
   "metadata": {},
   "source": [
    "## can we apply to grayscale ?\n",
    "- no ..."
   ]
  },
  {
   "cell_type": "code",
   "execution_count": null,
   "metadata": {},
   "outputs": [],
   "source": [
    "#gray = chainercv.utils.read_image('lena.jpeg',color=False)\n",
    "#transforms.pca_lighting(gray,sigma=25)"
   ]
  },
  {
   "cell_type": "markdown",
   "metadata": {},
   "source": [
    "# `chainercv.transforms` exer with random"
   ]
  },
  {
   "cell_type": "markdown",
   "metadata": {},
   "source": [
    "## transforms.random_crop\n",
    "- chainercv.transforms.random_crop(img, size, return_param=False, copy=False)"
   ]
  },
  {
   "cell_type": "code",
   "execution_count": null,
   "metadata": {},
   "outputs": [],
   "source": [
    "img = chainercv.utils.read_image(imgfile)\n",
    "f, axes = plt.subplots(nrows=1, ncols=5, figsize=(15, 5))\n",
    "\n",
    "h = 120\n",
    "w = 100\n",
    "size = (h, w)\n",
    "for i in range(5):\n",
    "    cropped = transforms.random_crop(img, size)\n",
    "    vis_image(cropped, ax=axes[i])"
   ]
  },
  {
   "cell_type": "markdown",
   "metadata": {},
   "source": [
    "## transforms.random_expand\n",
    "- chainercv.transforms.random_expand(img, max_ratio=4, fill=0, return_param=False)"
   ]
  },
  {
   "cell_type": "code",
   "execution_count": null,
   "metadata": {},
   "outputs": [],
   "source": [
    "f, axes = plt.subplots(nrows=1, ncols=5, figsize=(15, 5))\n",
    "\n",
    "h = 120\n",
    "w = 100\n",
    "size = (h, w)\n",
    "for i in range(5):\n",
    "    fill = np.random.randint(0, 255+1, size=3)\n",
    "    cropped = transforms.random_expand(img, max_ratio=1.7, fill=fill)\n",
    "    vis_image(cropped, ax=axes[i])"
   ]
  },
  {
   "cell_type": "markdown",
   "metadata": {},
   "source": [
    "## transforms.random_flip\n",
    "- transforms.random_flip(img, y_random=False, x_random=False, return_param=False, copy=False)"
   ]
  },
  {
   "cell_type": "code",
   "execution_count": null,
   "metadata": {},
   "outputs": [],
   "source": [
    "img = chainercv.utils.read_image(imgfile)\n",
    "nrows = 2\n",
    "ncols = 4\n",
    "f, axes = plt.subplots(nrows=nrows, ncols=ncols, figsize=(15, 8))\n",
    "for (r, c) in itertools.product(range(nrows), range(ncols)):\n",
    "    img_flipped, param = transforms.random_flip(\n",
    "        img, y_random=True, x_random=True, return_param=True)\n",
    "    ax = axes[r, c]\n",
    "    ax.set_title(' '.join(['='.join([str(k), str(v)])\n",
    "                           for k, v in param.items()]))\n",
    "    vis_image(img_flipped, ax=ax)"
   ]
  },
  {
   "cell_type": "markdown",
   "metadata": {},
   "source": [
    "# transforms.random_rotate\n",
    "\n",
    "- chainercv.transforms.random_rotate(img, return_param=False)"
   ]
  },
  {
   "cell_type": "code",
   "execution_count": null,
   "metadata": {},
   "outputs": [],
   "source": [
    "img = chainercv.utils.read_image(imgfile)\n",
    "nrows = 2\n",
    "ncols = 4\n",
    "f, axes = plt.subplots(nrows=nrows, ncols=ncols, figsize=(15, 8))\n",
    "for (r, c) in itertools.product(range(nrows), range(ncols)):\n",
    "    img_rot, param = transforms.random_rotate(img, return_param=True)\n",
    "    ax = axes[r, c]\n",
    "    ax.set_title(' '.join(['='.join([str(k), str(v)])\n",
    "                           for k, v in param.items()]))\n",
    "    vis_image(img_rot, ax=ax)"
   ]
  },
  {
   "cell_type": "markdown",
   "metadata": {},
   "source": [
    "## transforms.random_sized_crop\n",
    "\n",
    "- chainercv.transforms.random_sized_crop(img, scale_ratio_range=(0.08, 1), aspect_ratio_range=(0.75, 1.3333333333333333), return_param=False, copy=False)"
   ]
  },
  {
   "cell_type": "code",
   "execution_count": null,
   "metadata": {},
   "outputs": [],
   "source": [
    "img = chainercv.utils.read_image(imgfile)\n",
    "nrows = 2\n",
    "ncols = 4\n",
    "f, axes = plt.subplots(nrows=nrows, ncols=ncols, figsize=(15, 8))\n",
    "for (r, c) in itertools.product(range(nrows), range(ncols)):\n",
    "    img_cropped, param = transforms.random_sized_crop(img, return_param=True)\n",
    "    ax = axes[r, c]\n",
    "    vis_image(img_cropped, ax=ax)"
   ]
  },
  {
   "cell_type": "markdown",
   "metadata": {},
   "source": [
    "# resize exercise"
   ]
  },
  {
   "cell_type": "markdown",
   "metadata": {},
   "source": [
    "## chainercv.transforms.resize\n",
    "- chainercv.transforms.resize(img, size, interpolation=2)\n",
    "\n",
    "- where the value of `interpolation` is method of resize algorithm\n",
    "\n",
    "```python\n",
    "import numpy as np\n",
    "import PIL\n",
    "import warnings\n",
    "\n",
    "\n",
    "try:\n",
    "    import cv2\n",
    "\n",
    "    def _resize(img, size, interpolation):\n",
    "        img = img.transpose((1, 2, 0))\n",
    "        if interpolation == PIL.Image.NEAREST:\n",
    "            cv_interpolation = cv2.INTER_NEAREST\n",
    "        elif interpolation == PIL.Image.BILINEAR:\n",
    "            cv_interpolation = cv2.INTER_LINEAR\n",
    "        elif interpolation == PIL.Image.BICUBIC:\n",
    "            cv_interpolation = cv2.INTER_CUBIC\n",
    "        elif interpolation == PIL.Image.LANCZOS:\n",
    "            cv_interpolation = cv2.INTER_LANCZOS4\n",
    "        H, W = size\n",
    "        img = cv2.resize(img, dsize=(W, H), interpolation=cv_interpolation)\n",
    "\n",
    "        # If input is a grayscale image, cv2 returns a two-dimentional array.\n",
    "        if len(img.shape) == 2:\n",
    "            img = img[:, :, np.newaxis]\n",
    "        return img.transpose((2, 0, 1))\n",
    "\n",
    "except ImportError:\n",
    "    def _resize(img, size, interpolation):\n",
    "        warnings.warn(\n",
    "            'cv2 is not installed on your environment. '\n",
    "            'ChainerCV will fall back on Pillow. '\n",
    "            'Installation of cv2 is recommended for faster computation. ',\n",
    "            RuntimeWarning)\n",
    "\n",
    "        C = img.shape[0]\n",
    "        H, W = size\n",
    "        out = np.empty((C, H, W), dtype=img.dtype)\n",
    "        for ch, out_ch in zip(img, out):\n",
    "            ch = PIL.Image.fromarray(ch, mode='F')\n",
    "            out_ch[:] = ch.resize((W, H), resample=interpolation)\n",
    "        return out\n",
    "\n",
    "\n",
    "def resize(img, size, interpolation=PIL.Image.BILINEAR):\n",
    "    \"\"\"Resize image to match the given shape.\n",
    "\n",
    "    This method uses :mod:`cv2` or :mod:`PIL` for the backend.\n",
    "    If :mod:`cv2` is installed, this function uses the implementation in\n",
    "    :mod:`cv2`. This implementation is faster than the implementation in\n",
    "    :mod:`PIL`. Under Anaconda environment,\n",
    "    :mod:`cv2` can be installed by the following command.\n",
    "\n",
    "    .. code::\n",
    "\n",
    "        $ conda install -c menpo opencv3=3.2.0\n",
    "\n",
    "    Args:\n",
    "        img (~numpy.ndarray): An array to be transformed.\n",
    "            This is in CHW format and the type should be :obj:`numpy.float32`.\n",
    "        size (tuple): This is a tuple of length 2. Its elements are\n",
    "            ordered as (height, width).\n",
    "        interpolation (int): Determines sampling strategy. This is one of\n",
    "            :obj:`PIL.Image.NEAREST`, :obj:`PIL.Image.BILINEAR`,\n",
    "            :obj:`PIL.Image.BICUBIC`, :obj:`PIL.Image.LANCZOS`.\n",
    "            Bilinear interpolation is the default strategy.\n",
    "\n",
    "    Returns:\n",
    "        ~numpy.ndarray: A resize array in CHW format.\n",
    "\n",
    "    \"\"\"\n",
    "    img = _resize(img, size, interpolation)\n",
    "    return img\n",
    "```"
   ]
  },
  {
   "cell_type": "markdown",
   "metadata": {},
   "source": [
    "### resize size/2"
   ]
  },
  {
   "cell_type": "code",
   "execution_count": null,
   "metadata": {},
   "outputs": [],
   "source": [
    "img = chainercv.utils.read_image(imgfile)\n",
    "nrows = 2\n",
    "ncols = 2\n",
    "f, axes = plt.subplots(nrows=nrows, ncols=ncols, figsize=(12, 12))\n",
    "size = (img.shape[1]//2, img.shape[2]//2)\n",
    "algorithms = ['NEAREST', 'BILINEAR', 'BICUBIC', 'LANCZOS']\n",
    "for idx, algo in enumerate(algorithms):\n",
    "    q, r = divmod(idx, 2)\n",
    "    ax = axes[q, r]\n",
    "    ax.set_title(algorithms[idx])\n",
    "    resized = transforms.resize(img, size, eval('PIL.Image.{}'.format(algo)))\n",
    "    vis_image(resized, ax=ax)"
   ]
  },
  {
   "cell_type": "markdown",
   "metadata": {},
   "source": [
    "### resize 2*size"
   ]
  },
  {
   "cell_type": "code",
   "execution_count": null,
   "metadata": {},
   "outputs": [],
   "source": [
    "img = chainercv.utils.read_image(imgfile)\n",
    "nrows = 2\n",
    "ncols = 2\n",
    "f, axes = plt.subplots(nrows=nrows, ncols=ncols, figsize=(12, 12))\n",
    "size = (img.shape[1]*2, img.shape[2]*2)\n",
    "for idx, interpolation in enumerate([PIL.Image.NEAREST, PIL.Image.BILINEAR, PIL.Image.BICUBIC, PIL.Image.LANCZOS]):\n",
    "    q, r = divmod(idx, 2)\n",
    "    ax = axes[q, r]\n",
    "    resized = transforms.resize(img, size, interpolation)\n",
    "    vis_image(resized, ax=ax)"
   ]
  },
  {
   "cell_type": "markdown",
   "metadata": {},
   "source": [
    "## transforms.resize_contain\n",
    "- `transforms.resize_contain(img, size, fill=0, interpolation=2, return_param=False)`"
   ]
  },
  {
   "cell_type": "code",
   "execution_count": null,
   "metadata": {},
   "outputs": [],
   "source": [
    "img = chainercv.utils.read_image(imgfile)\n",
    "f, ax = plt.subplots(figsize=(12, 12))\n",
    "h = 120\n",
    "w = 60\n",
    "size = (h, w)\n",
    "resized, _param = transforms.resize_contain(img, size, return_param=True)\n",
    "param = OrderedDict()\n",
    "for k in sorted(list(_param.keys())):\n",
    "    param[k] = _param[k]\n",
    "ax.set_title(' '.join(['='.join([str(k), str(v)])for k, v in param.items()]))\n",
    "pts = [\n",
    "    [param['y_offset'], param['x_offset']],\n",
    "    [param['y_offset']+param['scaled_size'][0], param['x_offset']],\n",
    "    [param['y_offset'], param['x_offset']+param['scaled_size'][1]],\n",
    "    [param['y_offset']+param['scaled_size'][0],\n",
    "        param['x_offset']+param['scaled_size'][1]],\n",
    "]\n",
    "vis_point(resized, pts, ax=ax)\n",
    "vis_image(resized, ax=ax)"
   ]
  },
  {
   "cell_type": "code",
   "execution_count": null,
   "metadata": {},
   "outputs": [],
   "source": [
    "img = chainercv.utils.read_image(imgfile)\n",
    "f, ax = plt.subplots(figsize=(12, 12))\n",
    "h = 256\n",
    "w = 512\n",
    "size = (h, w)\n",
    "resized, _param = transforms.resize_contain(img, size, return_param=True)\n",
    "param = OrderedDict()\n",
    "for k in sorted(list(_param.keys())):\n",
    "    param[k] = _param[k]\n",
    "ax.set_title(' '.join(['='.join([str(k), str(v)])for k, v in param.items()]))\n",
    "pts = [\n",
    "    [param['y_offset'], param['x_offset']],\n",
    "    [param['y_offset']+param['scaled_size'][0], param['x_offset']],\n",
    "    [param['y_offset'], param['x_offset']+param['scaled_size'][1]],\n",
    "    [param['y_offset']+param['scaled_size'][0],\n",
    "        param['x_offset']+param['scaled_size'][1]],\n",
    "]\n",
    "vis_point(resized, pts, ax=ax)\n",
    "vis_image(resized, ax=ax)"
   ]
  },
  {
   "cell_type": "markdown",
   "metadata": {},
   "source": [
    "# transforms.rotate\n",
    "- `transforms.rotate(img, angle, expand=True)`"
   ]
  },
  {
   "cell_type": "code",
   "execution_count": null,
   "metadata": {},
   "outputs": [],
   "source": [
    "f, (ax1, ax2, ax3) = plt.subplots(nrows=1, ncols=3, figsize=(10, 5))\n",
    "img = chainercv.utils.read_image(imgfile)\n",
    "degree = 30\n",
    "img_rot_expand = transforms.rotate(img, degree, expand=True)\n",
    "img_rot_expand_false = transforms.rotate(img, degree, expand=False)\n",
    "ax1.set_title('original')\n",
    "ax2.set_title('expand True')\n",
    "ax3.set_title('expand False')\n",
    "vis_image(img, ax=ax1)\n",
    "vis_image(img_rot_expand, ax=ax2)\n",
    "vis_image(img_rot_expand_false, ax=ax3)"
   ]
  },
  {
   "cell_type": "markdown",
   "metadata": {},
   "source": [
    "# transforms.scale\n",
    "- `transforms.scale(img, size, fit_short=True, interpolation=2)`"
   ]
  },
  {
   "cell_type": "code",
   "execution_count": null,
   "metadata": {},
   "outputs": [],
   "source": [
    "f, (ax1, ax2, ax3) = plt.subplots(nrows=3, ncols=1, figsize=(5, 10))\n",
    "img = chainercv.utils.read_image(imgfile)\n",
    "img = transforms.resize(img, (128, 256))\n",
    "img_fit_short = transforms.scale(img, size=80, fit_short=True)\n",
    "img_fit_short_false = transforms.scale(img, size=80, fit_short=False)\n",
    "ax1.set_title('original')\n",
    "ax2.set_title('fit_shot True')\n",
    "ax3.set_title('fit_shot False')\n",
    "ax1.set_title('img.shape[1:]={}'.format(img.shape[1:]))\n",
    "ax2.set_title('fit_short={}, img.shape[1:]={}'.format(\n",
    "    True, img_fit_short.shape[1:]))\n",
    "ax3.set_title('fit_short={}, img.shape[1:]={}'.format(\n",
    "    False, img_fit_short_false.shape[1:]))\n",
    "vis_image(img, ax=ax1)\n",
    "vis_image(img_fit_short, ax=ax2)\n",
    "vis_image(img_fit_short_false, ax=ax3)"
   ]
  },
  {
   "cell_type": "markdown",
   "metadata": {},
   "source": [
    "# transforms.ten_crop\n",
    "- `transforms.ten_crop(img, size)`\n",
    "\n",
    "Crop 10 regions from an array.\n",
    "\n",
    "This method crops 10 regions. All regions will be in shape `size`. These regions consist of 1 center crop and 4 corner crops and horizontal flips of them.\n",
    "\n",
    "The crops are ordered in this order.\n",
    "\n",
    "- center crop\n",
    "- top-left crop\n",
    "- bottom-left crop\n",
    "- top-right crop\n",
    "- bottom-right crop\n",
    "- center crop (flipped horizontally)\n",
    "- top-left crop (flipped horizontally)\n",
    "- bottom-left crop (flipped horizontally)\n",
    "- top-right crop (flipped horizontally)\n",
    "- bottom-right crop (flipped horizontally)"
   ]
  },
  {
   "cell_type": "code",
   "execution_count": null,
   "metadata": {},
   "outputs": [],
   "source": [
    "f, axes = plt.subplots(nrows=3, ncols=3, figsize=(10, 10))\n",
    "img = chainercv.utils.read_image(imgfile)\n",
    "ten_crop = transforms.ten_crop(img, size=(80, 80))\n",
    "\n",
    "positions = [\n",
    "    (1, 1),  # center crop\n",
    "    (0, 0),  # top-left crop\n",
    "    (2, 0),  # bottom-left crop\n",
    "    (0, 2),  # top-right crop\n",
    "    (2, 2),  # bottom-right crop\n",
    "]\n",
    "\n",
    "for (r, c) in itertools.product(range(3), repeat=2):\n",
    "    if not (r, c) in positions:\n",
    "        axes[r, c].axis('off')\n",
    "\n",
    "for (r, c), i in zip(positions, range(5)):\n",
    "    vis_image(ten_crop[i], ax=axes[r, c])"
   ]
  },
  {
   "cell_type": "code",
   "execution_count": null,
   "metadata": {},
   "outputs": [],
   "source": [
    "f, axes = plt.subplots(nrows=3, ncols=3, figsize=(10, 10))\n",
    "img = chainercv.utils.read_image(imgfile)\n",
    "ten_crop = transforms.ten_crop(img, size=(80, 80))\n",
    "\n",
    "positions = [\n",
    "    (1, 1),  # center crop\n",
    "    (0, 0),  # top-left crop\n",
    "    (2, 0),  # bottom-left crop\n",
    "    (0, 2),  # top-right crop\n",
    "    (2, 2),  # bottom-right crop\n",
    "]\n",
    "\n",
    "for (r, c) in itertools.product(range(3), repeat=2):\n",
    "    if not (r, c) in positions:\n",
    "        axes[r, c].axis('off')\n",
    "\n",
    "for (r, c), i in zip(positions, range(5)):\n",
    "    vis_image(ten_crop[5+i], ax=axes[r, c])"
   ]
  },
  {
   "cell_type": "markdown",
   "metadata": {},
   "source": [
    "# What I do next ...\n",
    "- study bbox etc..."
   ]
  },
  {
   "cell_type": "markdown",
   "metadata": {},
   "source": [
    "# Reference:\n",
    "\n",
    "- https://chainercv.readthedocs.io/en/stable/reference/transforms.html"
   ]
  },
  {
   "cell_type": "code",
   "execution_count": null,
   "metadata": {},
   "outputs": [],
   "source": []
  }
 ],
 "metadata": {
  "kernelspec": {
   "display_name": "Python 3",
   "language": "python",
   "name": "python3"
  },
  "language_info": {
   "codemirror_mode": {
    "name": "ipython",
    "version": 3
   },
   "file_extension": ".py",
   "mimetype": "text/x-python",
   "name": "python",
   "nbconvert_exporter": "python",
   "pygments_lexer": "ipython3",
   "version": "3.5.5"
  }
 },
 "nbformat": 4,
 "nbformat_minor": 2
}
